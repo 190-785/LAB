{
  "cells": [
    {
      "cell_type": "code",
      "execution_count": null,
      "id": "8488d427-5075-4750-9928-0a780be59f88",
      "metadata": {
        "id": "8488d427-5075-4750-9928-0a780be59f88",
        "outputId": "61af24a2-ec65-45f9-ba25-ac10b7b19e40"
      },
      "outputs": [
        {
          "name": "stdout",
          "output_type": "stream",
          "text": [
            "Prediction after 'h': 'e'\n"
          ]
        },
        {
          "ename": "KeyError",
          "evalue": "'z'",
          "output_type": "error",
          "traceback": [
            "\u001b[1;31m---------------------------------------------------------------------------\u001b[0m",
            "\u001b[1;31mKeyError\u001b[0m                                  Traceback (most recent call last)",
            "Cell \u001b[1;32mIn[3], line 52\u001b[0m\n\u001b[0;32m     48\u001b[0m \u001b[38;5;28mprint\u001b[39m(\u001b[38;5;124mf\u001b[39m\u001b[38;5;124m\"\u001b[39m\u001b[38;5;124mPrediction after \u001b[39m\u001b[38;5;124m'\u001b[39m\u001b[38;5;124mh\u001b[39m\u001b[38;5;124m'\u001b[39m\u001b[38;5;124m: \u001b[39m\u001b[38;5;124m'\u001b[39m\u001b[38;5;132;01m{\u001b[39;00midx_to_char[predicted_index]\u001b[38;5;132;01m}\u001b[39;00m\u001b[38;5;124m'\u001b[39m\u001b[38;5;124m\"\u001b[39m)\n\u001b[0;32m     51\u001b[0m \u001b[38;5;66;03m# Predict the next character after 'h'\u001b[39;00m\n\u001b[1;32m---> 52\u001b[0m test_input \u001b[38;5;241m=\u001b[39m np\u001b[38;5;241m.\u001b[39marray([[char_to_idx[\u001b[38;5;124m'\u001b[39m\u001b[38;5;124mz\u001b[39m\u001b[38;5;124m'\u001b[39m]]])\n\u001b[0;32m     53\u001b[0m pred \u001b[38;5;241m=\u001b[39m model\u001b[38;5;241m.\u001b[39mpredict(test_input, verbose\u001b[38;5;241m=\u001b[39m\u001b[38;5;241m0\u001b[39m)\n\u001b[0;32m     54\u001b[0m predicted_index \u001b[38;5;241m=\u001b[39m np\u001b[38;5;241m.\u001b[39margmax(pred[\u001b[38;5;241m0\u001b[39m][\u001b[38;5;241m0\u001b[39m])\n",
            "\u001b[1;31mKeyError\u001b[0m: 'z'"
          ]
        }
      ],
      "source": [
        "import numpy as np\n",
        "import tensorflow as tf\n",
        "from tensorflow.keras.models import Sequential\n",
        "from tensorflow.keras.layers import Embedding, SimpleRNN, Dense\n",
        "\n",
        "# Set random seed\n",
        "tf.random.set_seed(42)\n",
        "\n",
        "# Character mapping\n",
        "char_to_idx = {'h': 0, 'e': 1, 'l': 2, 'o': 3}\n",
        "idx_to_char = {i: ch for ch, i in char_to_idx.items()}\n",
        "\n",
        "# Training data\n",
        "input_seq = [0, 1, 2, 2]   # h, e, l, l\n",
        "target_seq = [1, 2, 2, 3]  # e, l, l, o\n",
        "\n",
        "# Convert to NumPy arrays\n",
        "X = np.array(input_seq).reshape((1, -1))  # shape: (batch_size, time_steps)\n",
        "y = np.array(target_seq).reshape((1, -1))  # shape: (1, 4)\n",
        "\n",
        "\n",
        "# Model hyperparameters\n",
        "vocab_size = len(char_to_idx)\n",
        "embedding_dim = 8\n",
        "rnn_units = 8\n",
        "\n",
        "# Build the model\n",
        "model = Sequential([\n",
        "    Embedding(input_dim=vocab_size, output_dim=embedding_dim, input_length=X.shape[1]),\n",
        "    SimpleRNN(units=rnn_units, return_sequences=True),\n",
        "    Dense(vocab_size, activation='softmax')\n",
        "])\n",
        "\n",
        "# Compile the model\n",
        "model.compile(loss='sparse_categorical_crossentropy', optimizer='adam')\n",
        "\n",
        "# Train the model\n",
        "# Convert to NumPy arrays\n",
        "X = np.array(input_seq).reshape((1, -1))  # shape: (1, 4)\n",
        "y = np.array(target_seq).reshape((1, -1))  # shape: (1, 4)\n",
        "\n",
        "model.fit(X, y, epochs=100, verbose=0)\n",
        "\n",
        "# Predict the next character after 'h'\n",
        "test_input = np.array([[char_to_idx['h']]])\n",
        "pred = model.predict(test_input, verbose=0)\n",
        "predicted_index = np.argmax(pred[0][0])\n",
        "print(f\"Prediction after 'h': '{idx_to_char[predicted_index]}'\")\n",
        "\n",
        "\n"
      ]
    },
    {
      "cell_type": "code",
      "execution_count": null,
      "id": "77ac0d5a-cae8-497a-a7e6-23bf357949d9",
      "metadata": {
        "id": "77ac0d5a-cae8-497a-a7e6-23bf357949d9"
      },
      "outputs": [],
      "source": []
    }
  ],
  "metadata": {
    "kernelspec": {
      "display_name": "Python 3 (ipykernel)",
      "language": "python",
      "name": "python3"
    },
    "language_info": {
      "codemirror_mode": {
        "name": "ipython",
        "version": 3
      },
      "file_extension": ".py",
      "mimetype": "text/x-python",
      "name": "python",
      "nbconvert_exporter": "python",
      "pygments_lexer": "ipython3",
      "version": "3.12.4"
    },
    "colab": {
      "provenance": []
    }
  },
  "nbformat": 4,
  "nbformat_minor": 5
}