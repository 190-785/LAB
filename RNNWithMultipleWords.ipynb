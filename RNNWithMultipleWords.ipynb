{
 "cells": [
  {
   "cell_type": "code",
   "execution_count": null,
   "id": "2979654a-98a6-43d2-8d4b-68b921b4e5ee",
   "metadata": {
    "colab": {
     "base_uri": "https://localhost:8080/"
    },
    "id": "2979654a-98a6-43d2-8d4b-68b921b4e5ee",
    "outputId": "0b8865c2-6730-467d-ed80-2556ec2f7ab8"
   },
   "outputs": [
    {
     "name": "stdout",
     "output_type": "stream",
     "text": [
      "\n",
      "📝 Generated text:\n",
      "hello how are\n"
     ]
    }
   ],
   "source": [
    "import numpy as np\n",
    "import tensorflow as tf\n",
    "from tensorflow.keras.models import Model\n",
    "from tensorflow.keras.layers import Input, Embedding, SimpleRNN, Dense\n",
    "\n",
    "# -------------------------------\n",
    "# 1. Training Text (multiple words or full sentence)\n",
    "# -------------------------------\n",
    "training_text = \"hello how are you\"\n",
    "\n",
    "# -------------------------------\n",
    "# 2. Build Character Mapping\n",
    "# -------------------------------\n",
    "chars = sorted(list(set(training_text)))\n",
    "char_to_idx = {ch: i for i, ch in enumerate(chars)}\n",
    "idx_to_char = {i: ch for ch, i in char_to_idx.items()}\n",
    "vocab_size = len(chars)\n",
    "\n",
    "# -------------------------------\n",
    "# 3. Prepare Sequence Data\n",
    "# -------------------------------\n",
    "sequence_length = 10  # window size\n",
    "step = 1\n",
    "\n",
    "input_sequences = []\n",
    "target_sequences = []\n",
    "\n",
    "for i in range(0, len(training_text) - sequence_length):\n",
    "    input_chunk = training_text[i: i + sequence_length]\n",
    "    target_chunk = training_text[i + 1: i + sequence_length + 1]\n",
    "    input_sequences.append([char_to_idx[ch] for ch in input_chunk])\n",
    "    target_sequences.append([char_to_idx[ch] for ch in target_chunk])\n",
    "\n",
    "X = np.array(input_sequences)\n",
    "y = np.array(target_sequences)\n",
    "\n",
    "# -------------------------------\n",
    "# 4. Build RNN Model\n",
    "# -------------------------------\n",
    "embedding_dim = 16\n",
    "rnn_units = 64\n",
    "\n",
    "inputs = Input(shape=(sequence_length,))\n",
    "x = Embedding(input_dim=vocab_size, output_dim=embedding_dim)(inputs)\n",
    "x = SimpleRNN(units=rnn_units, return_sequences=True)(x)\n",
    "outputs = Dense(vocab_size, activation='softmax')(x)\n",
    "\n",
    "model = Model(inputs=inputs, outputs=outputs)\n",
    "model.compile(loss='sparse_categorical_crossentropy', optimizer='adam')\n",
    "\n",
    "# -------------------------------\n",
    "# 5. Train the Model\n",
    "# -------------------------------\n",
    "model.fit(X, y, epochs=500, verbose=0)\n",
    "\n",
    "# -------------------------------\n",
    "# 6. Generate Sequence from Model\n",
    "# -------------------------------\n",
    "def generate_sequence(start_text, gen_length=100):\n",
    "    generated = [char_to_idx[ch] for ch in start_text]\n",
    "    for _ in range(gen_length):\n",
    "        input_seq = np.array(generated[-sequence_length:]).reshape(1, -1)\n",
    "        if input_seq.shape[1] < sequence_length:\n",
    "            input_seq = np.pad(input_seq, ((0, 0), (sequence_length - input_seq.shape[1], 0)))\n",
    "        pred = model.predict(input_seq, verbose=0)\n",
    "        next_char = np.argmax(pred[0, -1])\n",
    "        generated.append(next_char)\n",
    "    return ''.join([idx_to_char[i] for i in generated])\n",
    "\n",
    "# -------------------------------\n",
    "# 7. Run it!\n",
    "# -------------------------------\n",
    "start_text = \"hel\"  # can be any part of the sentence\n",
    "generated_text = generate_sequence(start_text, gen_length=10)\n",
    "print(f\"\\n📝 Generated text:\\n{generated_text}\")\n"
   ]
  },
  {
   "cell_type": "code",
   "execution_count": null,
   "id": "b212b308-6b61-4137-ac87-0308724d6cc1",
   "metadata": {
    "id": "b212b308-6b61-4137-ac87-0308724d6cc1"
   },
   "outputs": [],
   "source": []
  }
 ],
 "metadata": {
  "colab": {
   "provenance": []
  },
  "kernelspec": {
   "display_name": "Python 3 (ipykernel)",
   "language": "python",
   "name": "python3"
  },
  "language_info": {
   "codemirror_mode": {
    "name": "ipython",
    "version": 3
   },
   "file_extension": ".py",
   "mimetype": "text/x-python",
   "name": "python",
   "nbconvert_exporter": "python",
   "pygments_lexer": "ipython3",
   "version": "3.13.0"
  }
 },
 "nbformat": 4,
 "nbformat_minor": 5
}
