{
 "cells": [
  {
   "cell_type": "code",
   "execution_count": 39,
   "id": "de6e826d-b3e3-480c-ab4d-3bcae9a4c923",
   "metadata": {},
   "outputs": [],
   "source": [
    "import numpy as np\n",
    "import tensorflow\n",
    "import tensorflow as tf\n",
    "import matplotlib.pyplot as plt\n",
    "from tensorflow.keras.models import Model\n",
    "from tensorflow.keras.datasets import mnist\n",
    "from tensorflow.keras.layers import Input, Dense, Flatten\n",
    "from tensorflow.keras.layers import Layer \n",
    "from skimage import metrics\n",
    "## import os can be skipped if there is nocompatibility issue \n",
    "## with the OpenMP library and TensorFlow "
   ]
  },
  {
   "cell_type": "code",
   "execution_count": 41,
   "id": "09134520-8224-4292-8d94-903b0cc1af57",
   "metadata": {},
   "outputs": [],
   "source": [
    "# Load the MNIST dataset\n",
    "(x_train, train_labels), (x_test, test_labels) = mnist.load_data()"
   ]
  },
  {
   "cell_type": "code",
   "execution_count": 43,
   "id": "1c0c1e5d-beac-4604-aa57-fbaa721b36fe",
   "metadata": {},
   "outputs": [],
   "source": [
    "# Normalize the data\n",
    "x_train = x_train.astype('float32') / 255.\n",
    "x_test = x_test.astype('float32') / 255."
   ]
  },
  {
   "cell_type": "code",
   "execution_count": 45,
   "id": "29f05c74-2b98-42ce-ace6-37dfec4cf203",
   "metadata": {},
   "outputs": [],
   "source": [
    "# Flatten the images\n",
    "x_train = x_train.reshape((len(x_train), np.prod(x_train.shape[1:])))\n",
    "x_test = x_test.reshape((len(x_test), np.prod(x_test.shape[1:])))\n"
   ]
  },
  {
   "cell_type": "code",
   "execution_count": 47,
   "id": "65d8be92-00cc-4b77-89ee-dc0c46a9354c",
   "metadata": {},
   "outputs": [],
   "source": [
    "# Randomize both the training and test\n",
    "permutation = np.random.permutation(len(x_train))\n",
    "x_train, train_labels = x_train[permutation], train_labels[permutation]\n",
    "permutation = np.random.permutation(len(x_test))\n",
    "x_test, test_labels = x_test[permutation], test_labels[permutation]\n",
    "# Create the encoder"
   ]
  },
  {
   "cell_type": "code",
   "execution_count": 49,
   "id": "916fa513-7dc7-426b-a7ce-c2361eb6fc82",
   "metadata": {},
   "outputs": [
    {
     "name": "stdout",
     "output_type": "stream",
     "text": [
      "10000\n"
     ]
    }
   ],
   "source": [
    "list_xtest = [ [x_test[i], test_labels[i]] for i in test_labels] \n",
    "print(len(list_xtest)) "
   ]
  },
  {
   "cell_type": "code",
   "execution_count": 51,
   "id": "cdf9f19a-549a-480e-99db-9eb1a7ad9703",
   "metadata": {},
   "outputs": [],
   "source": [
    "encoder_input = Input(shape=(784,))\n",
    "encoded = Dense(64, activation='relu')(encoder_input)\n",
    "encoder = Model(encoder_input, encoded)"
   ]
  },
  {
   "cell_type": "code",
   "execution_count": 53,
   "id": "ace8e545-9e5c-47fc-9023-88ce3d18e4cb",
   "metadata": {},
   "outputs": [],
   "source": [
    "# Create the decoder\n",
    "decoder_input = Input(shape=(64,))\n",
    "decoded = Dense(784, activation='sigmoid')(decoder_input)\n",
    "decoder = Model(decoder_input, decoded)"
   ]
  },
  {
   "cell_type": "code",
   "execution_count": 55,
   "id": "95f90b19-7973-4c15-b330-015b339a28a5",
   "metadata": {},
   "outputs": [],
   "source": [
    "# Create the autoencoder\n",
    "autoencoder = Model(encoder_input, decoder(encoder(encoder_input)))\n",
    "\n",
    "lr_schedule = tensorflow.keras.optimizers.schedules.ExponentialDecay(initial_learning_rate = 5e-01, decay_steps = 2500, decay_rate = 0.75,staircase=True) \n",
    "tensorflow.keras.optimizers.Adam(learning_rate = lr_schedule,beta_1=0.95,beta_2=0.99,epsilon=1e-01)\n",
    "autoencoder.compile(optimizer='adam', loss='mean_squared_error')"
   ]
  },
  {
   "cell_type": "code",
   "execution_count": 57,
   "id": "75c606f7-67cc-47ca-a280-9ffaedeea641",
   "metadata": {},
   "outputs": [
    {
     "name": "stdout",
     "output_type": "stream",
     "text": [
      "Epoch 1/25\n",
      "\u001b[1m118/118\u001b[0m \u001b[32m━━━━━━━━━━━━━━━━━━━━\u001b[0m\u001b[37m\u001b[0m \u001b[1m2s\u001b[0m 10ms/step - loss: 0.1244 - val_loss: 0.0451\n",
      "Epoch 2/25\n",
      "\u001b[1m118/118\u001b[0m \u001b[32m━━━━━━━━━━━━━━━━━━━━\u001b[0m\u001b[37m\u001b[0m \u001b[1m1s\u001b[0m 8ms/step - loss: 0.0410 - val_loss: 0.0309\n",
      "Epoch 3/25\n",
      "\u001b[1m118/118\u001b[0m \u001b[32m━━━━━━━━━━━━━━━━━━━━\u001b[0m\u001b[37m\u001b[0m \u001b[1m1s\u001b[0m 8ms/step - loss: 0.0291 - val_loss: 0.0234\n",
      "Epoch 4/25\n",
      "\u001b[1m118/118\u001b[0m \u001b[32m━━━━━━━━━━━━━━━━━━━━\u001b[0m\u001b[37m\u001b[0m \u001b[1m1s\u001b[0m 7ms/step - loss: 0.0226 - val_loss: 0.0190\n",
      "Epoch 5/25\n",
      "\u001b[1m118/118\u001b[0m \u001b[32m━━━━━━━━━━━━━━━━━━━━\u001b[0m\u001b[37m\u001b[0m \u001b[1m1s\u001b[0m 7ms/step - loss: 0.0185 - val_loss: 0.0157\n",
      "Epoch 6/25\n",
      "\u001b[1m118/118\u001b[0m \u001b[32m━━━━━━━━━━━━━━━━━━━━\u001b[0m\u001b[37m\u001b[0m \u001b[1m1s\u001b[0m 7ms/step - loss: 0.0155 - val_loss: 0.0134\n",
      "Epoch 7/25\n",
      "\u001b[1m118/118\u001b[0m \u001b[32m━━━━━━━━━━━━━━━━━━━━\u001b[0m\u001b[37m\u001b[0m \u001b[1m1s\u001b[0m 7ms/step - loss: 0.0133 - val_loss: 0.0115\n",
      "Epoch 8/25\n",
      "\u001b[1m118/118\u001b[0m \u001b[32m━━━━━━━━━━━━━━━━━━━━\u001b[0m\u001b[37m\u001b[0m \u001b[1m1s\u001b[0m 9ms/step - loss: 0.0115 - val_loss: 0.0102\n",
      "Epoch 9/25\n",
      "\u001b[1m118/118\u001b[0m \u001b[32m━━━━━━━━━━━━━━━━━━━━\u001b[0m\u001b[37m\u001b[0m \u001b[1m1s\u001b[0m 8ms/step - loss: 0.0101 - val_loss: 0.0090\n",
      "Epoch 10/25\n",
      "\u001b[1m118/118\u001b[0m \u001b[32m━━━━━━━━━━━━━━━━━━━━\u001b[0m\u001b[37m\u001b[0m \u001b[1m1s\u001b[0m 9ms/step - loss: 0.0090 - val_loss: 0.0081\n",
      "Epoch 11/25\n",
      "\u001b[1m118/118\u001b[0m \u001b[32m━━━━━━━━━━━━━━━━━━━━\u001b[0m\u001b[37m\u001b[0m \u001b[1m1s\u001b[0m 8ms/step - loss: 0.0082 - val_loss: 0.0074\n",
      "Epoch 12/25\n",
      "\u001b[1m118/118\u001b[0m \u001b[32m━━━━━━━━━━━━━━━━━━━━\u001b[0m\u001b[37m\u001b[0m \u001b[1m1s\u001b[0m 9ms/step - loss: 0.0074 - val_loss: 0.0067\n",
      "Epoch 13/25\n",
      "\u001b[1m118/118\u001b[0m \u001b[32m━━━━━━━━━━━━━━━━━━━━\u001b[0m\u001b[37m\u001b[0m \u001b[1m1s\u001b[0m 9ms/step - loss: 0.0068 - val_loss: 0.0063\n",
      "Epoch 14/25\n",
      "\u001b[1m118/118\u001b[0m \u001b[32m━━━━━━━━━━━━━━━━━━━━\u001b[0m\u001b[37m\u001b[0m \u001b[1m1s\u001b[0m 11ms/step - loss: 0.0063 - val_loss: 0.0059\n",
      "Epoch 15/25\n",
      "\u001b[1m118/118\u001b[0m \u001b[32m━━━━━━━━━━━━━━━━━━━━\u001b[0m\u001b[37m\u001b[0m \u001b[1m1s\u001b[0m 9ms/step - loss: 0.0060 - val_loss: 0.0056\n",
      "Epoch 16/25\n",
      "\u001b[1m118/118\u001b[0m \u001b[32m━━━━━━━━━━━━━━━━━━━━\u001b[0m\u001b[37m\u001b[0m \u001b[1m1s\u001b[0m 8ms/step - loss: 0.0057 - val_loss: 0.0053\n",
      "Epoch 17/25\n",
      "\u001b[1m118/118\u001b[0m \u001b[32m━━━━━━━━━━━━━━━━━━━━\u001b[0m\u001b[37m\u001b[0m \u001b[1m1s\u001b[0m 8ms/step - loss: 0.0054 - val_loss: 0.0051\n",
      "Epoch 18/25\n",
      "\u001b[1m118/118\u001b[0m \u001b[32m━━━━━━━━━━━━━━━━━━━━\u001b[0m\u001b[37m\u001b[0m \u001b[1m1s\u001b[0m 8ms/step - loss: 0.0052 - val_loss: 0.0049\n",
      "Epoch 19/25\n",
      "\u001b[1m118/118\u001b[0m \u001b[32m━━━━━━━━━━━━━━━━━━━━\u001b[0m\u001b[37m\u001b[0m \u001b[1m1s\u001b[0m 9ms/step - loss: 0.0050 - val_loss: 0.0048\n",
      "Epoch 20/25\n",
      "\u001b[1m118/118\u001b[0m \u001b[32m━━━━━━━━━━━━━━━━━━━━\u001b[0m\u001b[37m\u001b[0m \u001b[1m1s\u001b[0m 8ms/step - loss: 0.0049 - val_loss: 0.0046\n",
      "Epoch 21/25\n",
      "\u001b[1m118/118\u001b[0m \u001b[32m━━━━━━━━━━━━━━━━━━━━\u001b[0m\u001b[37m\u001b[0m \u001b[1m1s\u001b[0m 8ms/step - loss: 0.0047 - val_loss: 0.0045\n",
      "Epoch 22/25\n",
      "\u001b[1m118/118\u001b[0m \u001b[32m━━━━━━━━━━━━━━━━━━━━\u001b[0m\u001b[37m\u001b[0m \u001b[1m1s\u001b[0m 8ms/step - loss: 0.0047 - val_loss: 0.0045\n",
      "Epoch 23/25\n",
      "\u001b[1m118/118\u001b[0m \u001b[32m━━━━━━━━━━━━━━━━━━━━\u001b[0m\u001b[37m\u001b[0m \u001b[1m1s\u001b[0m 9ms/step - loss: 0.0045 - val_loss: 0.0044\n",
      "Epoch 24/25\n",
      "\u001b[1m118/118\u001b[0m \u001b[32m━━━━━━━━━━━━━━━━━━━━\u001b[0m\u001b[37m\u001b[0m \u001b[1m1s\u001b[0m 9ms/step - loss: 0.0045 - val_loss: 0.0043\n",
      "Epoch 25/25\n",
      "\u001b[1m118/118\u001b[0m \u001b[32m━━━━━━━━━━━━━━━━━━━━\u001b[0m\u001b[37m\u001b[0m \u001b[1m1s\u001b[0m 9ms/step - loss: 0.0044 - val_loss: 0.0042\n"
     ]
    }
   ],
   "source": [
    "# Train the autoencoder\n",
    "history = autoencoder.fit(x_train, x_train,\n",
    "                epochs=25,\n",
    "                batch_size=512,\n",
    "                shuffle=True,\n",
    "                validation_data=(x_test, x_test))\n"
   ]
  },
  {
   "cell_type": "code",
   "execution_count": 59,
   "id": "d3bdfd1d-6a22-4de7-8db4-1e785b0346e0",
   "metadata": {},
   "outputs": [
    {
     "data": {
      "image/png": "[encoded data removed]",
      "text/plain": [
       "<Figure size 640x480 with 1 Axes>"
      ]
     },
     "metadata": {},
     "output_type": "display_data"
    }
   ],
   "source": [
    "# Plot the training history\n",
    "plt.plot(history.history['loss'])\n",
    "plt.plot(history.history['val_loss'])\n",
    "plt.title('Model loss')\n",
    "plt.ylabel('Loss')\n",
    "plt.xlabel('Epoch')\n",
    "plt.legend(['Train', 'Test'], loc='upper right')\n",
    "plt.show()\n"
   ]
  },
  {
   "cell_type": "code",
   "execution_count": 61,
   "id": "3b929c67-75e4-47b3-93a5-b2b70b8c989b",
   "metadata": {},
   "outputs": [
    {
     "name": "stdout",
     "output_type": "stream",
     "text": [
      "\u001b[1m313/313\u001b[0m \u001b[32m━━━━━━━━━━━━━━━━━━━━\u001b[0m\u001b[37m\u001b[0m \u001b[1m1s\u001b[0m 1ms/step\n"
     ]
    }
   ],
   "source": [
    "# Plot the test figures vs. predicted figures\n",
    "decoded_imgs = autoencoder.predict(x_test)\n"
   ]
  },
  {
   "cell_type": "code",
   "execution_count": 79,
   "id": "2880f563-1a0e-4d18-906c-d6d3b84111a3",
   "metadata": {},
   "outputs": [],
   "source": [
    "def mse(imageA, imageB):\n",
    "    err = np.sum((imageA.astype(\"float\") - imageB.astype(\"float\")) ** 2)\n",
    "    err /= float(imageA.shape[0])\n",
    "    return err"
   ]
  },
  {
   "cell_type": "code",
   "execution_count": 83,
   "id": "78f37328-fc0d-47b0-a6be-3311a403368b",
   "metadata": {},
   "outputs": [],
   "source": [
    "\n",
    "def ssim(imageA, imageB):\n",
    "    return metrics.structural_similarity(imageA, imageB, data_range=1.0, channel_axis=None)"
   ]
  },
  {
   "cell_type": "code",
   "execution_count": 93,
   "id": "14379272-30d9-4416-a8aa-2000c7e54060",
   "metadata": {},
   "outputs": [
    {
     "name": "stdout",
     "output_type": "stream",
     "text": [
      "[7, 6, 2, 2, 7, 2, 3, 7, 8, 9]\n",
      "mse and ssim for image 0 are 0.004238823575596261 and 0.8114144332119764\n",
      "mse and ssim for image 1 are 0.004029345833723781 and 0.8985212193514701\n",
      "mse and ssim for image 2 are 0.0035963399337721005 and 0.880464498178703\n",
      "mse and ssim for image 3 are 0.011402741689701101 and 0.8619965733524306\n",
      "mse and ssim for image 4 are 0.0021310918806026133 and 0.8236314485634851\n",
      "mse and ssim for image 5 are 0.0057132467149818384 and 0.8360629663802309\n",
      "mse and ssim for image 6 are 0.005885360381233196 and 0.821148455800467\n",
      "mse and ssim for image 7 are 0.0010903050902486848 and 0.9049951184761248\n",
      "mse and ssim for image 8 are 0.00568525359442087 and 0.9216349181362397\n",
      "mse and ssim for image 9 are 0.002320829562922341 and 0.922377627831345\n"
     ]
    },
    {
     "data": {
      "image/png": "[encoded data removed]",
      "text/plain": [
       "<Figure size 2000x400 with 20 Axes>"
      ]
     },
     "metadata": {},
     "output_type": "display_data"
    },
    {
     "name": "stdout",
     "output_type": "stream",
     "text": [
      "[7, 6, 2, 7, 2, 3, 7, 8, 9]\n",
      "[6, 2, 2, 7, 8, 9]\n"
     ]
    }
   ],
   "source": [
    "decomser = [] \n",
    "decossimr = [] \n",
    "n = 10\n",
    "list_xtestn = [ [x_test[i], test_labels[i]] for i in range(10)] \n",
    "print([list_xtestn[i][1] for i in range(n)]) \n",
    "plt.figure(figsize=(20, 4))\n",
    "for i in range(n):\n",
    "    # Display original\n",
    "    ax = plt.subplot(2, n, i + 1)\n",
    "    plt.imshow(x_test[i].reshape(28, 28))\n",
    "    plt.gray()\n",
    "    ax.get_xaxis().set_visible(False)\n",
    "    ax.get_yaxis().set_visible(False)\n",
    "\n",
    "    # Display reconstruction\n",
    "    ax = plt.subplot(2, n, i + 1 + n)\n",
    "    plt.imshow(decoded_imgs[i].reshape(28, 28))\n",
    "    plt.gray()\n",
    "    ax.get_xaxis().set_visible(False)\n",
    "    ax.get_yaxis().set_visible(False)\n",
    "    \n",
    "    msel = mse(list_xtestn[i][0], decoded_imgs[i])\n",
    "    ssiml = ssim(list_xtestn[i][0], decoded_imgs[i])\n",
    "    if msel <= 0.01: \n",
    "        decomser.append(list_xtestn[i][1])  \n",
    "    if ssiml > 0.85:\n",
    "        decossimr.append(list_xtestn[i][1])   \n",
    "    print(\"mse and ssim for image %s are %s and %s\" %(i, msel, ssiml))    \n",
    "    \n",
    "plt.show() \n",
    "\n",
    "print(decomser)\n",
    "print(decossimr)\n",
    "    "
   ]
  },
  {
   "cell_type": "code",
   "execution_count": null,
   "id": "e09e7416-d7d6-4318-bddb-c0a91ed506b0",
   "metadata": {},
   "outputs": [],
   "source": []
  }
 ],
 "metadata": {
  "kernelspec": {
   "display_name": "Python 3 (ipykernel)",
   "language": "python",
   "name": "python3"
  },
  "language_info": {
   "codemirror_mode": {
    "name": "ipython",
    "version": 3
   },
   "file_extension": ".py",
   "mimetype": "text/x-python",
   "name": "python",
   "nbconvert_exporter": "python",
   "pygments_lexer": "ipython3",
   "version": "3.12.4"
  }
 },
 "nbformat": 4,
 "nbformat_minor": 5
}
